{
 "cells": [
  {
   "cell_type": "markdown",
   "metadata": {},
   "source": [
    "<h1 style=\"color:purple;\">Exploring Renewable Energy Consumption Across Various Economies</h1>\n",
    "\n",
    "### Mini-Project by Siddarth Karuka\n",
    "\n",
    "Data Source: https://www.kaggle.com/worldbank/world-development-indicators"
   ]
  },
  {
   "cell_type": "code",
   "execution_count": 1,
   "metadata": {},
   "outputs": [],
   "source": [
    "import pandas as pd\n",
    "import numpy as np\n",
    "import matplotlib.pyplot as plt"
   ]
  },
  {
   "cell_type": "code",
   "execution_count": 2,
   "metadata": {},
   "outputs": [],
   "source": [
    "data = pd.read_csv('./world-development-indicators/Indicators.csv')"
   ]
  },
  {
   "cell_type": "code",
   "execution_count": 3,
   "metadata": {},
   "outputs": [
    {
     "data": {
      "text/html": [
       "<div>\n",
       "<style scoped>\n",
       "    .dataframe tbody tr th:only-of-type {\n",
       "        vertical-align: middle;\n",
       "    }\n",
       "\n",
       "    .dataframe tbody tr th {\n",
       "        vertical-align: top;\n",
       "    }\n",
       "\n",
       "    .dataframe thead th {\n",
       "        text-align: right;\n",
       "    }\n",
       "</style>\n",
       "<table border=\"1\" class=\"dataframe\">\n",
       "  <thead>\n",
       "    <tr style=\"text-align: right;\">\n",
       "      <th></th>\n",
       "      <th>CountryName</th>\n",
       "      <th>CountryCode</th>\n",
       "      <th>IndicatorName</th>\n",
       "      <th>IndicatorCode</th>\n",
       "      <th>Year</th>\n",
       "      <th>Value</th>\n",
       "    </tr>\n",
       "  </thead>\n",
       "  <tbody>\n",
       "    <tr>\n",
       "      <th>0</th>\n",
       "      <td>Arab World</td>\n",
       "      <td>ARB</td>\n",
       "      <td>Adolescent fertility rate (births per 1,000 wo...</td>\n",
       "      <td>SP.ADO.TFRT</td>\n",
       "      <td>1960</td>\n",
       "      <td>1.335609e+02</td>\n",
       "    </tr>\n",
       "    <tr>\n",
       "      <th>1</th>\n",
       "      <td>Arab World</td>\n",
       "      <td>ARB</td>\n",
       "      <td>Age dependency ratio (% of working-age populat...</td>\n",
       "      <td>SP.POP.DPND</td>\n",
       "      <td>1960</td>\n",
       "      <td>8.779760e+01</td>\n",
       "    </tr>\n",
       "    <tr>\n",
       "      <th>2</th>\n",
       "      <td>Arab World</td>\n",
       "      <td>ARB</td>\n",
       "      <td>Age dependency ratio, old (% of working-age po...</td>\n",
       "      <td>SP.POP.DPND.OL</td>\n",
       "      <td>1960</td>\n",
       "      <td>6.634579e+00</td>\n",
       "    </tr>\n",
       "    <tr>\n",
       "      <th>3</th>\n",
       "      <td>Arab World</td>\n",
       "      <td>ARB</td>\n",
       "      <td>Age dependency ratio, young (% of working-age ...</td>\n",
       "      <td>SP.POP.DPND.YG</td>\n",
       "      <td>1960</td>\n",
       "      <td>8.102333e+01</td>\n",
       "    </tr>\n",
       "    <tr>\n",
       "      <th>4</th>\n",
       "      <td>Arab World</td>\n",
       "      <td>ARB</td>\n",
       "      <td>Arms exports (SIPRI trend indicator values)</td>\n",
       "      <td>MS.MIL.XPRT.KD</td>\n",
       "      <td>1960</td>\n",
       "      <td>3.000000e+06</td>\n",
       "    </tr>\n",
       "  </tbody>\n",
       "</table>\n",
       "</div>"
      ],
      "text/plain": [
       "  CountryName CountryCode                                      IndicatorName  \\\n",
       "0  Arab World         ARB  Adolescent fertility rate (births per 1,000 wo...   \n",
       "1  Arab World         ARB  Age dependency ratio (% of working-age populat...   \n",
       "2  Arab World         ARB  Age dependency ratio, old (% of working-age po...   \n",
       "3  Arab World         ARB  Age dependency ratio, young (% of working-age ...   \n",
       "4  Arab World         ARB        Arms exports (SIPRI trend indicator values)   \n",
       "\n",
       "    IndicatorCode  Year         Value  \n",
       "0     SP.ADO.TFRT  1960  1.335609e+02  \n",
       "1     SP.POP.DPND  1960  8.779760e+01  \n",
       "2  SP.POP.DPND.OL  1960  6.634579e+00  \n",
       "3  SP.POP.DPND.YG  1960  8.102333e+01  \n",
       "4  MS.MIL.XPRT.KD  1960  3.000000e+06  "
      ]
     },
     "execution_count": 3,
     "metadata": {},
     "output_type": "execute_result"
    }
   ],
   "source": [
    "data.head()"
   ]
  },
  {
   "cell_type": "markdown",
   "metadata": {},
   "source": [
    "-----\n",
    "<h4 style=\"color:purple;\">\n",
    "Since I'm interested in looking at Renewable Energy Consumption across various economies, I'll look for relavant indicators of economies such as classification by income \n",
    "    \n",
    "---    \n",
    "</h4>"
   ]
  },
  {
   "cell_type": "code",
   "execution_count": 4,
   "metadata": {},
   "outputs": [
    {
     "data": {
      "text/plain": [
       "array(['East Asia & Pacific (all income levels)',\n",
       "       'Europe & Central Asia (all income levels)', 'High income',\n",
       "       'High income: nonOECD', 'High income: OECD',\n",
       "       'Latin America & Caribbean (all income levels)',\n",
       "       'Low & middle income', 'Low income', 'Lower middle income',\n",
       "       'Middle East & North Africa (all income levels)', 'Middle income',\n",
       "       'Sub-Saharan Africa (all income levels)', 'Upper middle income'],\n",
       "      dtype=object)"
      ]
     },
     "execution_count": 4,
     "metadata": {},
     "output_type": "execute_result"
    }
   ],
   "source": [
    "countries = data[data['CountryName'].str.contains('[Ii]ncome')]\n",
    "countries.CountryName.unique()"
   ]
  },
  {
   "cell_type": "markdown",
   "metadata": {},
   "source": [
    "----\n",
    "<h4 style=\"color:purple;\">\n",
    "\n",
    "I'll choose the following:\n",
    "</h4>\n",
    "\n",
    "* High income\n",
    "\n",
    "* Middle income\n",
    "\n",
    "* Low income\n",
    "\n",
    "<h4 style=\"color:purple;\">\n",
    "    \n",
    "I'll then investigate further into the High income countries; specifically I'll look if there's a difference between OECD and nonOECD countries\n",
    "\n",
    "For more information on OECD, please read https://en.wikipedia.org/wiki/OECD\n",
    "</h4>\n",
    "\n",
    "<div>\n",
    "    <b><u>OECD</u></b>\n",
    "\"The Organisation for Economic Co-operation and Development is an intergovernmental economic organisation with 36 member countries, founded in 1961 to stimulate economic progress and world trade...\"\n",
    "\n",
    "</div>\n",
    "\n",
    "-----"
   ]
  },
  {
   "cell_type": "code",
   "execution_count": 5,
   "metadata": {},
   "outputs": [],
   "source": [
    "countries_of_interest = ['Low income','Middle income','High income','High income: OECD','High income: nonOECD']"
   ]
  },
  {
   "cell_type": "code",
   "execution_count": 6,
   "metadata": {},
   "outputs": [
    {
     "name": "stdout",
     "output_type": "stream",
     "text": [
      "['LIC']\n",
      "['MIC']\n",
      "['HIC']\n",
      "['OEC']\n",
      "['NOC']\n"
     ]
    }
   ],
   "source": [
    "for country in countries_of_interest:\n",
    "    print(data.CountryCode[data['CountryName']==country].unique())"
   ]
  },
  {
   "cell_type": "markdown",
   "metadata": {},
   "source": [
    "----\n",
    "<h4 style=\"color:purple;\">\n",
    "\n",
    "Now I'll look for an Indicator that relates to Renewable Energy Consumption:\n",
    "\n",
    "</h4>\n",
    "\n",
    "-----"
   ]
  },
  {
   "cell_type": "code",
   "execution_count": 7,
   "metadata": {},
   "outputs": [
    {
     "name": "stdout",
     "output_type": "stream",
     "text": [
      "['Renewable energy consumption (% of total final energy consumption)']\n"
     ]
    }
   ],
   "source": [
    "print(data.IndicatorName[data.IndicatorName.str.contains('[Rr]enewable [Ee]nergy')].unique())"
   ]
  },
  {
   "cell_type": "markdown",
   "metadata": {},
   "source": [
    "----\n",
    "<h4 style=\"color:purple;\">\n",
    "\n",
    "It's good that the value is already presented as a percentage of total final energy consumption, so it's ready for comparison. I'll first take a look at how they have changed over time in terms of percentage change from 1990\n",
    "</h4>\n",
    "\n",
    "-----"
   ]
  },
  {
   "cell_type": "code",
   "execution_count": 8,
   "metadata": {},
   "outputs": [],
   "source": [
    "low_income_data = data[(data['CountryCode']=='LIC') & \\\n",
    "                       (data.IndicatorName.str.contains('Renewable energy consumption'))]\n",
    "\n",
    "middle_income_data = data[(data['CountryCode']=='MIC') & \\\n",
    "                       (data.IndicatorName.str.contains('Renewable energy consumption'))]\n",
    "\n",
    "high_income_data = data[(data['CountryCode']=='HIC') & \\\n",
    "                       (data.IndicatorName.str.contains('Renewable energy consumption'))]"
   ]
  },
  {
   "cell_type": "code",
   "execution_count": 9,
   "metadata": {
    "scrolled": true
   },
   "outputs": [
    {
     "data": {
      "image/png": "[encoded data removed]",
      "text/plain": [
       "<Figure size 1440x360 with 3 Axes>"
      ]
     },
     "metadata": {
      "needs_background": "light"
     },
     "output_type": "display_data"
    }
   ],
   "source": [
    "fig,ax = plt.subplots(1,3,figsize=(20, 5))\n",
    "\n",
    "ax[0].scatter(low_income_data.Year,low_income_data.Value,color='blue')\n",
    "ax[0].set(title='Low Income Countries',ylim=[0,100],xlabel='Year', \\\n",
    "          ylabel='Renewable energy consumption \\n (% of total final energy consumption)')\n",
    "ax[1].scatter(middle_income_data.Year,middle_income_data.Value,color='orange')\n",
    "ax[1].set(title='Middle Income Countries',ylim=[0,100],xlabel='Year', \\\n",
    "          ylabel='Renewable energy consumption \\n (% of total final energy consumption)')\n",
    "ax[2].scatter(high_income_data.Year,high_income_data.Value,color='green')\n",
    "ax[2].set(title='High Income Countries',ylim=[0,100],xlabel='Year', \\\n",
    "          ylabel='Renewable energy consumption \\n (% of total final energy consumption)');"
   ]
  },
  {
   "cell_type": "markdown",
   "metadata": {},
   "source": [
    "----\n",
    "<h4 style=\"color:purple;\">\n",
    "\n",
    "This gives us a picture about how the contribution from renewable energy decreases as the income/economy increases.\n",
    "\n",
    "I'll now zoom in and take a look at the percentage change in renewable energy contribution, from 1990 to 2012\n",
    "</h4>\n",
    "\n",
    "-----"
   ]
  },
  {
   "cell_type": "code",
   "execution_count": 10,
   "metadata": {},
   "outputs": [
    {
     "data": {
      "image/png": "[encoded data removed]",
      "text/plain": [
       "<Figure size 1440x360 with 3 Axes>"
      ]
     },
     "metadata": {
      "needs_background": "light"
     },
     "output_type": "display_data"
    }
   ],
   "source": [
    "fig,ax = plt.subplots(1,3,figsize=(20, 5))\n",
    "ax[0].scatter(low_income_data.Year,\\\n",
    "              (100*(low_income_data.Value - low_income_data.Value.iloc[0])/low_income_data.Value.iloc[0])\\\n",
    "             ,color='blue')\n",
    "ax[0].set(title='Low Income Countries',xlabel='Year', \\\n",
    "          ylabel='Renewable energy consumption \\n % change from 1990')\n",
    "ax[1].scatter(middle_income_data.Year,\\\n",
    "              (100*(middle_income_data.Value - middle_income_data.Value.iloc[0])/middle_income_data.Value.iloc[0])\\\n",
    "             ,color='orange')\n",
    "ax[1].set(title='Middle Income Countries',xlabel='Year', \\\n",
    "          ylabel='Renewable energy consumption \\n % change from 1990')\n",
    "ax[2].scatter(high_income_data.Year,\\\n",
    "              (100*(high_income_data.Value - high_income_data.Value.iloc[0])/high_income_data.Value.iloc[0])\\\n",
    "             ,color='green')\n",
    "ax[2].set(title='High Income Countries',xlabel='Year', \\\n",
    "          ylabel='Renewable energy consumption \\n % change from 1990');"
   ]
  },
  {
   "cell_type": "markdown",
   "metadata": {},
   "source": [
    "---\n",
    "<b>A possible theory:</b>\n",
    "So it may be possible that when the economy is small (implying a small country), their needs might be met with whatever renewable energy sources were readily and easily available. That's why we can see a larger percentage contribution from renewable energy.\n",
    "\n",
    "But as the economy starts to grow from low to middle income countries, may be the country needs more and more total energy and probably couldn't keep up with renewable energy. Also, this could probably explain why the percentage of renewable energy for middle income countries is lower than Low income countries, but higher than high income countries. \n",
    "\n",
    "Further when the countries start to grow from middle to high income countries, they are already meetings needs for high energy demands, but probably have the means to pursue renewable energy and thus keep increasing the contribution from renewable energy.\n",
    "\n",
    "Again, this is all just a possible theory that could explain the data from my perspective. Further research and data analysis is required to make any conclusive remarks.\n",
    "\n",
    "---\n",
    "<h4 style=\"color:purple;\">\n",
    "I'll now look further into High Income countries, specifically if there's a difference in how OECD countries vs nonOECD countries use renewable energy.\n",
    "</h4>\n",
    "\n",
    "-----"
   ]
  },
  {
   "cell_type": "code",
   "execution_count": 11,
   "metadata": {},
   "outputs": [],
   "source": [
    "high_income_OECD_data = data[(data['CountryCode']=='OEC') & \\\n",
    "                       (data.IndicatorName.str.contains('Renewable energy consumption'))]\n",
    "high_income_nonOECD_data = data[(data['CountryCode']=='NOC') & \\\n",
    "                       (data.IndicatorName.str.contains('Renewable energy consumption'))]"
   ]
  },
  {
   "cell_type": "code",
   "execution_count": 12,
   "metadata": {},
   "outputs": [
    {
     "data": {
      "image/png": "[encoded data removed]",
      "text/plain": [
       "<Figure size 1080x360 with 2 Axes>"
      ]
     },
     "metadata": {
      "needs_background": "light"
     },
     "output_type": "display_data"
    }
   ],
   "source": [
    "fig,ax = plt.subplots(1,2,figsize=(15, 5))\n",
    "\n",
    "ax[0].scatter(high_income_OECD_data.Year,high_income_OECD_data.Value,color='green')\n",
    "ax[0].set(title='High Income OECD Countries',xlabel='Year', \\\n",
    "          ylabel='Renewable energy consumption \\n (% of total final energy consumption)')\n",
    "ax[1].scatter(high_income_nonOECD_data.Year,high_income_nonOECD_data.Value,color='red')\n",
    "ax[1].set(title='High Income nonOECD Countries',xlabel='Year', \\\n",
    "          ylabel='Renewable energy consumption \\n (% of total final energy consumption)');"
   ]
  },
  {
   "cell_type": "markdown",
   "metadata": {},
   "source": [
    "----\n",
    "<h4 style=\"color:purple;\">\n",
    "\n",
    "It looks like High Income countries under OECD oraganization have been constantly increasing their energy usage from renewable energy sources where High Income countries that aren't part of the organization didn't seem to change much. It actually looks like they are back to 1990 levels in 2012\n",
    "</h4>\n",
    "\n",
    "---\n",
    "<h3 style=\"color:green;\">\n",
    "\n",
    "CONCLUSION\n",
    "\n",
    "It appears that there's some relation between economy and how countries are changing their views on adopting renewable energy sources. As a general trend, it appears that as the economy or income level increases, the percentage contribution from renewable energy decreases. In addition, there also seems to be, what I would call as, 'slabs' in which countries can behave differently. Such as low and high income countries were increasing their renewable energy contribution where as middle income were decreasing it over time.\n",
    "\n",
    "Even among countries that are similarly ranked in economies, there could be several other factors that can be related to how the countries were changing their renewable energy contribution. For instance, being part of OECD correlates with increasing renewable energy usage contribution over time. However, it is to be noted that it is just a correlation and <span style=\"color:red;\"> correlation does not imply causation</span>\n",
    "\n",
    "</h3>\n",
    "\n",
    "-----"
   ]
  }
 ],
 "metadata": {
  "kernelspec": {
   "display_name": "Python 3",
   "language": "python",
   "name": "python3"
  },
  "language_info": {
   "codemirror_mode": {
    "name": "ipython",
    "version": 3
   },
   "file_extension": ".py",
   "mimetype": "text/x-python",
   "name": "python",
   "nbconvert_exporter": "python",
   "pygments_lexer": "ipython3",
   "version": "3.7.1"
  }
 },
 "nbformat": 4,
 "nbformat_minor": 2
}
