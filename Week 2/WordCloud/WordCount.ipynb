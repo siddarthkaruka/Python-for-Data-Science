{
 "cells": [
  {
   "cell_type": "code",
   "execution_count": 42,
   "metadata": {},
   "outputs": [
    {
     "name": "stdout",
     "output_type": "stream",
     "text": [
      "[('said', 642), ('mr', 616), ('one', 420), ('lorry', 313), ('will', 290), ('upon', 289), ('little', 264), ('man', 259), ('defarge', 259), ('time', 236)]\n"
     ]
    }
   ],
   "source": [
    "import operator\n",
    "\n",
    "textfile = open('98-0.txt', \"r\",encoding=\"utf8\")\n",
    "stopwords = set(line.strip() for line in open('stopwords'))\n",
    "wordcount = {}\n",
    "\n",
    "for key in textfile.read().split():\n",
    "    key = key.lower()\n",
    "    key = key.replace(\".\",\"\")\n",
    "    key = key.replace(\",\",\"\")\n",
    "    key = key.replace(\"\\\"\",\"\")\n",
    "    key = key.replace(\"“\",\"\")\n",
    "    if key not in stopwords:\n",
    "        if key in wordcount:\n",
    "            wordcount[key]+=1\n",
    "        else:\n",
    "            wordcount[key]=1  \n",
    "\n",
    "sorted_wordcount = sorted(wordcount.items(), key=operator.itemgetter(1),reverse=True)\n",
    "\n",
    "print(sorted_wordcount[0:10])\n"
   ]
  },
  {
   "cell_type": "code",
   "execution_count": null,
   "metadata": {},
   "outputs": [],
   "source": []
  },
  {
   "cell_type": "code",
   "execution_count": null,
   "metadata": {},
   "outputs": [],
   "source": []
  }
 ],
 "metadata": {
  "kernelspec": {
   "display_name": "Python 3",
   "language": "python",
   "name": "python3"
  },
  "language_info": {
   "codemirror_mode": {
    "name": "ipython",
    "version": 3
   },
   "file_extension": ".py",
   "mimetype": "text/x-python",
   "name": "python",
   "nbconvert_exporter": "python",
   "pygments_lexer": "ipython3",
   "version": "3.7.1"
  }
 },
 "nbformat": 4,
 "nbformat_minor": 2
}
